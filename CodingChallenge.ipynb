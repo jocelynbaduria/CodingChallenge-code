{
  "nbformat": 4,
  "nbformat_minor": 0,
  "metadata": {
    "colab": {
      "name": "CodingChallenge.ipynb",
      "provenance": [],
      "collapsed_sections": [],
      "authorship_tag": "ABX9TyNw2UPle6qikv1yDkM4LfsG",
      "include_colab_link": true
    },
    "kernelspec": {
      "name": "python3",
      "display_name": "Python 3"
    },
    "language_info": {
      "name": "python"
    }
  },
  "cells": [
    {
      "cell_type": "markdown",
      "metadata": {
        "id": "view-in-github",
        "colab_type": "text"
      },
      "source": [
        "<a href=\"https://colab.research.google.com/github/jocelynbaduria/CodingChallenge-code/blob/main/CodingChallenge.ipynb\" target=\"_parent\"><img src=\"https://colab.research.google.com/assets/colab-badge.svg\" alt=\"Open In Colab\"/></a>"
      ]
    },
    {
      "cell_type": "markdown",
      "metadata": {
        "id": "0AHP1dYSaU9F"
      },
      "source": [
        "Using Python, construct a class without importing any modules given the following guidelines:\n",
        "\n",
        "-Given 2 inputs, data and shape, construct a tensor using nested lists.\n",
        "\n",
        "-A tensor a general term for n-dimension matrix. (order goes scalar, vector, matrix, tensor)\n",
        "\n",
        "-Data and shape inputs are given as lists of numbers. Data can be any number (int or float), but shape needs to be a list of positive integers.\n",
        "\n",
        "-Data and shape inputs can be lists of any length.\n",
        "\n",
        "-The constructed tensor can be saved as an instance variable, printed in standard output, or both.\n",
        "\n",
        "-If too many data numbers, cut it off after the tensor fills up. If not enough, pad the tensor w/ zeroes.\n",
        "\n",
        "-Output an empty list if the shape given is also an empty list ([])"
      ]
    },
    {
      "cell_type": "markdown",
      "metadata": {
        "id": "6igULgX7ayRx"
      },
      "source": [
        "    class Tensor():\n",
        "      ...\n",
        "      def __init__(self, data, shape):\n",
        "        self.data = data\n",
        "        self.shape = shape\n",
        "        self.tensor = ...\n",
        "\n",
        "      def shape_data(self, ...):   \n",
        "      'shape_data' is an example. feel free to name it whatever you want.\n",
        "\n",
        "      >>>data0 = [0, 1, 2, 3, 4, 5, 0.1, 0.2, -3]\n",
        "      >>>shape0 = [2, 3, 2]\n",
        "      >>>tensor0 = Tensor(data0, shape0)\n",
        "\n",
        "      output:\n",
        "      [[[0, 1], [2, 3], [4, 5]], [[0.1, 0.2], [-3, 0], [0, 0]]]\n",
        "\n",
        "\n",
        "      >>>data1 = [0, 1, 2, 3, 4, 5, 0.1, 0.2, -3, -2, -1, 3, 2, 1]\n",
        "      >>>shape1 = [5, 2]\n",
        "      >>>tensor1 = Tensor(data1, shape1)\n",
        "\n",
        "      output:\n",
        "      [[0, 1], [2, 3], [4, 5], [0.1, 0.2], [-3, -2]]\n",
        "      REMEMBER NOT TO IMPORT ANY MODULES OR LIBRARIES SUCH AS TENSORFLOW, NUMPY, OR SCIPY."
      ]
    },
    {
      "cell_type": "code",
      "metadata": {
        "id": "gYLUZVnBaUHZ"
      },
      "source": [
        "# Use case 1: Data can be any list of numbers either int, float.\n",
        "# Use case 2: Shape should be a list of positive numbers.\n",
        "# Use case 3: Data and shape inputs can be lists of any length\n",
        "# Use case 4: Created tensors can be saved as an instance variable, printed in standard output, or both.\n",
        "# Use case 5: Pad the data to zeroes if too many data numbers\n",
        "# Use case 6: Output an empty list if shape given is an empty list ([]) \n",
        "\n",
        "class Tensor(): # create a class object Tensor.\n",
        "\n",
        "    # Instantiate the given inputs data, shape and tensor[] parameters\n",
        "    def __init__(self, data, shape):\n",
        "      self.data = [] \n",
        "      self.shape = []\n",
        "      self.tensor = [] # creates an empty list of tensors \n",
        "\n",
        "    # Create a function that will return the shape of tensors (scalar, vector, matrix, tensor)\n",
        "    # scalar - rank 0 (A \"scalar\" or \"rank-0\" tensor contains a single value and has no \"axes\")\n",
        "    # vector - rank 1 (A \"vector\" or \"rank-1\" tensor is like a list of values. A vector has one axis)\n",
        "    # matrix - rank 2 (A \"matrix\" or \"rank-2\" tensor has two axes)\n",
        "    # tensor - rank 3 (A \"tensor\" or \"rank-3\" tensor has three axes)\n",
        "\n",
        "    def tensorShape(self):\n",
        "      print(self.data, self.shape, self.tensor)\n",
        "\n",
        "    # If shape is a scalar and positive integer \n",
        "      a = []\n",
        "      if shape == [a] & shape > [0]:\n",
        "         d = [a]\n",
        "      elif data == float[a] | data < [0]:\n",
        "         d = [a]\n",
        "      else:\n",
        "        # Print empty list\n",
        "        print(\"Empty List\", a)\n",
        "\n",
        "    # If shape is a vector and positive integer \n",
        "      a = []\n",
        "      if shape == [a] & shape > [0]:\n",
        "        for i in range(data):\n",
        "          if data > [0]:\n",
        "            a.append(data)\n",
        "      # if data is float\n",
        "          elif data == float[a]:\n",
        "            data.append(a)\n",
        "          # if data is negative\n",
        "          elif data < [0]:\n",
        "            data.append[data]\n",
        "          break\n",
        "\n",
        "    # If shape is a matrix and positive integer\n",
        "      a = []\n",
        "      b = []\n",
        "      if shape == [a, b]:\n",
        "        for j in range(data):\n",
        "          b.append(data)\n",
        "\n",
        "        for i in range(data):\n",
        "          a.append(b)\n",
        "\n",
        "    # If shape is a tensor and positive integer\n",
        "      a = []\n",
        "      b = []\n",
        "      c = []\n",
        "      if shape == [a, b, c]:\n",
        "        for i in range(data):\n",
        "          a.append(data)\n",
        "\n",
        "          for j in range(data):\n",
        "            b.append(a)\n",
        "\n",
        "            for k in range(data):\n",
        "              c.append(b)\n",
        "\n",
        "    # If shape is empty, print an empty list\n",
        "\n",
        "    def updateList(self, tensor):\n",
        "        # provides new signature for update_tensorShape()\n",
        "        # but does not break __init__()\n",
        "        for num in range(len(tensorShape)):\n",
        "            self.tensor.append(num)\n",
        "        return tensor  "
      ],
      "execution_count": 21,
      "outputs": []
    },
    {
      "cell_type": "code",
      "metadata": {
        "id": "qDT3cndngIiF"
      },
      "source": [
        "d = [0, 1, 2, 3, 4, 5, 0.1, 0.2, -3]\n",
        "s = [2, 3, 2]\n",
        "t = Tensor(d, s)"
      ],
      "execution_count": 22,
      "outputs": []
    },
    {
      "cell_type": "code",
      "metadata": {
        "colab": {
          "base_uri": "https://localhost:8080/"
        },
        "id": "V1hyVCCQqd8m",
        "outputId": "2b3e3ede-8e2d-4e8d-8a3b-2ff4a141831c"
      },
      "source": [
        "print(t)"
      ],
      "execution_count": 23,
      "outputs": [
        {
          "output_type": "stream",
          "text": [
            "<__main__.Tensor object at 0x7f2a4ab29110>\n"
          ],
          "name": "stdout"
        }
      ]
    },
    {
      "cell_type": "code",
      "metadata": {
        "id": "wkJaaqQew6bh"
      },
      "source": [
        ""
      ],
      "execution_count": null,
      "outputs": []
    }
  ]
}